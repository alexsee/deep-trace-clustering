{
 "cells": [
  {
   "cell_type": "markdown",
   "metadata": {},
   "source": [
    "# Learning of Process Representations Using Recurrent Neural Networks"
   ]
  },
  {
   "cell_type": "code",
   "execution_count": 1,
   "metadata": {},
   "outputs": [],
   "source": [
    "import numpy as np\n",
    "import pandas as pd\n",
    "\n",
    "from replearn.eventlog import EventLog\n",
    "\n",
    "from replearn.embedding_predict import EmbeddingPredict\n",
    "from replearn.autoencoder import AutoencoderRepresentation\n",
    "from replearn.doc2vec import Doc2VecRepresentation\n",
    "\n",
    "from replearn.clustering import Clustering"
   ]
  },
  {
   "cell_type": "markdown",
   "metadata": {},
   "source": [
    "## Load event log"
   ]
  },
  {
   "cell_type": "code",
   "execution_count": 2,
   "metadata": {},
   "outputs": [],
   "source": [
    "# event log configuration\n",
    "event_log_path = '../logs/'\n",
    "file_name = 'huge_500_10_20_5_1_1-0.0-1.json.gz'\n",
    "\n",
    "case_attributes = None # auto-detect attributes\n",
    "event_attributes = ['concept:name', 'user'] # use activity name and user\n",
    "true_cluster_label = 'cluster'\n",
    "\n",
    "# load file\n",
    "event_log = EventLog(file_name, case_attributes=case_attributes, event_attributes=event_attributes, true_cluster_label=true_cluster_label)\n",
    "event_log.load(event_log_path + '/' + file_name, False)\n",
    "event_log.preprocess()"
   ]
  },
  {
   "cell_type": "markdown",
   "metadata": {},
   "source": [
    "## Representation Learning"
   ]
  },
  {
   "cell_type": "code",
   "execution_count": 3,
   "metadata": {},
   "outputs": [],
   "source": [
    "# hyperparameters\n",
    "n_epochs = 10\n",
    "n_batch_size = 64\n",
    "n_clusters = 5\n",
    "\n",
    "vector_size = 32"
   ]
  },
  {
   "cell_type": "markdown",
   "metadata": {},
   "source": [
    "### Autoencoder"
   ]
  },
  {
   "cell_type": "code",
   "execution_count": 4,
   "metadata": {},
   "outputs": [
    {
     "name": "stdout",
     "output_type": "stream",
     "text": [
      "Epoch 1/10\n",
      "8/8 [==============================] - 0s 16ms/step - loss: 0.2497\n",
      "Epoch 2/10\n",
      "8/8 [==============================] - 0s 16ms/step - loss: 0.2477\n",
      "Epoch 3/10\n",
      "8/8 [==============================] - 0s 20ms/step - loss: 0.2451\n",
      "Epoch 4/10\n",
      "8/8 [==============================] - 0s 24ms/step - loss: 0.2418\n",
      "Epoch 5/10\n",
      "8/8 [==============================] - 0s 17ms/step - loss: 0.2370\n",
      "Epoch 6/10\n",
      "8/8 [==============================] - 0s 20ms/step - loss: 0.2304\n",
      "Epoch 7/10\n",
      "8/8 [==============================] - 0s 18ms/step - loss: 0.2210\n",
      "Epoch 8/10\n",
      "8/8 [==============================] - 0s 53ms/step - loss: 0.2095\n",
      "Epoch 9/10\n",
      "8/8 [==============================] - 0s 33ms/step - loss: 0.1946\n",
      "Epoch 10/10\n",
      "8/8 [==============================] - 0s 41ms/step - loss: 0.1756\n"
     ]
    }
   ],
   "source": [
    "# get sequences from event log as one-hot feature vector\n",
    "sequences = event_log.event_attributes_flat_onehot_features_2d\n",
    "\n",
    "# init and train autoencoder\n",
    "autoencoder = AutoencoderRepresentation(event_log)\n",
    "autoencoder.build_model(sequences.shape[1], encoder_dim=vector_size)\n",
    "autoencoder.fit(batch_size=n_batch_size, epochs=n_epochs, verbose=True)"
   ]
  },
  {
   "cell_type": "code",
   "execution_count": 5,
   "metadata": {},
   "outputs": [],
   "source": [
    "# get feature vector\n",
    "feature_vector = autoencoder.predict()"
   ]
  },
  {
   "cell_type": "markdown",
   "metadata": {},
   "source": [
    "### Clustering"
   ]
  },
  {
   "cell_type": "code",
   "execution_count": 6,
   "metadata": {},
   "outputs": [],
   "source": [
    "# cluster feature vector\n",
    "cluster_analysis = Clustering(event_log)\n",
    "cluster_analysis.cluster(feature_vector, 'agglomerative', n_clusters, 'cosine')\n",
    "\n",
    "cluster_result = cluster_analysis.evaluate()"
   ]
  },
  {
   "cell_type": "code",
   "execution_count": 7,
   "metadata": {},
   "outputs": [
    {
     "name": "stdout",
     "output_type": "stream",
     "text": [
      "Adjusted Rand Index: 0.561019904750317\n",
      "Normalized Mutual Information: 0.6772203995233733\n",
      "F1-BCubed: 0.69852544657527\n"
     ]
    }
   ],
   "source": [
    "print('Adjusted Rand Index: ' + str(cluster_result[0]))\n",
    "print('Normalized Mutual Information: ' + str(cluster_result[1]))\n",
    "print('F1-BCubed: ' + str(cluster_result[2]))"
   ]
  }
 ],
 "metadata": {
  "kernelspec": {
   "display_name": "Python 3",
   "language": "python",
   "name": "python3"
  },
  "language_info": {
   "codemirror_mode": {
    "name": "ipython",
    "version": 3
   },
   "file_extension": ".py",
   "mimetype": "text/x-python",
   "name": "python",
   "nbconvert_exporter": "python",
   "pygments_lexer": "ipython3",
   "version": "3.7.7"
  }
 },
 "nbformat": 4,
 "nbformat_minor": 4
}
