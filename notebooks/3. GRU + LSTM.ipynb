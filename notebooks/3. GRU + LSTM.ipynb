{
 "cells": [
  {
   "cell_type": "markdown",
   "metadata": {},
   "source": [
    "# DeepCluster: Learning Good Representations for Trace Clustering"
   ]
  },
  {
   "cell_type": "code",
   "execution_count": 1,
   "metadata": {},
   "outputs": [],
   "source": [
    "import numpy as np\n",
    "import pandas as pd\n",
    "\n",
    "from replearn.eventlog import EventLog\n",
    "\n",
    "from replearn.embedding_predict import EmbeddingPredict\n",
    "from replearn.autoencoder import AutoencoderRepresentation\n",
    "from replearn.doc2vec import Doc2VecRepresentation\n",
    "\n",
    "from replearn.clustering import Clustering"
   ]
  },
  {
   "cell_type": "markdown",
   "metadata": {},
   "source": [
    "## Load event log"
   ]
  },
  {
   "cell_type": "code",
   "execution_count": 2,
   "metadata": {},
   "outputs": [],
   "source": [
    "# event log configuration\n",
    "event_log_path = '../logs/'\n",
    "file_name = 'huge_500_10_20_5_1_1-0.0-1.json.gz'\n",
    "\n",
    "case_attributes = None # auto-detect attributes\n",
    "event_attributes = ['concept:name', 'user'] # use activity name and user\n",
    "true_cluster_label = 'cluster'\n",
    "\n",
    "# load file\n",
    "event_log = EventLog(file_name, case_attributes=case_attributes, event_attributes=event_attributes, true_cluster_label=true_cluster_label)\n",
    "event_log.load(event_log_path + '/' + file_name, False)\n",
    "event_log.preprocess()"
   ]
  },
  {
   "cell_type": "markdown",
   "metadata": {},
   "source": [
    "## Representation Learning"
   ]
  },
  {
   "cell_type": "code",
   "execution_count": 3,
   "metadata": {},
   "outputs": [],
   "source": [
    "# hyperparameters\n",
    "n_epochs = 10\n",
    "n_batch_size = 64\n",
    "n_clusters = 5\n",
    "\n",
    "vector_size = 32"
   ]
  },
  {
   "cell_type": "markdown",
   "metadata": {},
   "source": [
    "### LSTM / GRU"
   ]
  },
  {
   "cell_type": "code",
   "execution_count": 4,
   "metadata": {},
   "outputs": [
    {
     "name": "stdout",
     "output_type": "stream",
     "text": [
      "Epoch 1/10\n",
      "8/8 [==============================] - 0s 16ms/step - loss: 24.7798 - dense_loss: 2.4499 - dense_1_loss: 2.3969 - dense_2_loss: 2.5101 - dense_3_loss: 2.3853 - dense_4_loss: 2.9272 - dense_5_loss: 2.4240 - dense_6_loss: 2.5699 - dense_7_loss: 2.4159 - dense_8_loss: 2.2719 - dense_9_loss: 2.4285 - dense_accuracy: 0.1120 - dense_1_accuracy: 0.1180 - dense_2_accuracy: 0.1160 - dense_3_accuracy: 0.1940 - dense_4_accuracy: 0.0520 - dense_5_accuracy: 0.1560 - dense_6_accuracy: 0.1680 - dense_7_accuracy: 0.1220 - dense_8_accuracy: 0.1740 - dense_9_accuracy: 0.2140\n",
      "Epoch 2/10\n",
      "8/8 [==============================] - 0s 17ms/step - loss: 21.2913 - dense_loss: 2.0486 - dense_1_loss: 2.0386 - dense_2_loss: 2.1503 - dense_3_loss: 2.0466 - dense_4_loss: 2.5123 - dense_5_loss: 2.0348 - dense_6_loss: 2.2137 - dense_7_loss: 2.1412 - dense_8_loss: 2.0291 - dense_9_loss: 2.0761 - dense_accuracy: 0.2520 - dense_1_accuracy: 0.2720 - dense_2_accuracy: 0.2240 - dense_3_accuracy: 0.2760 - dense_4_accuracy: 0.1800 - dense_5_accuracy: 0.2620 - dense_6_accuracy: 0.2320 - dense_7_accuracy: 0.2380 - dense_8_accuracy: 0.2220 - dense_9_accuracy: 0.2360\n",
      "Epoch 3/10\n",
      "8/8 [==============================] - 0s 21ms/step - loss: 17.5469 - dense_loss: 1.5838 - dense_1_loss: 1.7558 - dense_2_loss: 1.7736 - dense_3_loss: 1.7384 - dense_4_loss: 1.9968 - dense_5_loss: 1.6747 - dense_6_loss: 1.8695 - dense_7_loss: 1.7011 - dense_8_loss: 1.6522 - dense_9_loss: 1.8008 - dense_accuracy: 0.4460 - dense_1_accuracy: 0.2940 - dense_2_accuracy: 0.2580 - dense_3_accuracy: 0.3080 - dense_4_accuracy: 0.2600 - dense_5_accuracy: 0.3240 - dense_6_accuracy: 0.2980 - dense_7_accuracy: 0.2840 - dense_8_accuracy: 0.3160 - dense_9_accuracy: 0.2460\n",
      "Epoch 4/10\n",
      "8/8 [==============================] - 0s 17ms/step - loss: 15.1341 - dense_loss: 1.2837 - dense_1_loss: 1.5484 - dense_2_loss: 1.5612 - dense_3_loss: 1.5261 - dense_4_loss: 1.6175 - dense_5_loss: 1.5000 - dense_6_loss: 1.6033 - dense_7_loss: 1.4772 - dense_8_loss: 1.4517 - dense_9_loss: 1.5650 - dense_accuracy: 0.4600 - dense_1_accuracy: 0.3100 - dense_2_accuracy: 0.2860 - dense_3_accuracy: 0.3400 - dense_4_accuracy: 0.2840 - dense_5_accuracy: 0.3680 - dense_6_accuracy: 0.3040 - dense_7_accuracy: 0.3320 - dense_8_accuracy: 0.3360 - dense_9_accuracy: 0.2860 0s - loss: 15.4183 - dense_loss: 1.3011 - dense_1_loss: 1.5867 - dense_2_loss: 1.5734 - dense_3_loss: 1.5584 - dense_4_loss: 1.6673 - dense_5_loss: 1.5259 - dense_6_loss: 1.6383 - dense_7_loss: 1.5048 - dense_8_loss: 1.4536 - dense_9_loss: 1.6090 - dense_accuracy: 0.4766 - dense_1_accuracy: 0.3008 - dense_2_accuracy: 0.2930 - dense_3_accuracy: 0.3555 - dense_4_accuracy: 0.3164 - dense_5_accuracy: 0.3789 - dense_6_accuracy: 0.3242 - dense_7_accuracy: 0.3516 - dense_8_accuracy: 0.3477 - dense_9_accuracy: 0.\n",
      "Epoch 5/10\n",
      "8/8 [==============================] - 0s 18ms/step - loss: 14.2468 - dense_loss: 1.2063 - dense_1_loss: 1.4549 - dense_2_loss: 1.5129 - dense_3_loss: 1.4424 - dense_4_loss: 1.5029 - dense_5_loss: 1.4162 - dense_6_loss: 1.4426 - dense_7_loss: 1.4152 - dense_8_loss: 1.3757 - dense_9_loss: 1.4776 - dense_accuracy: 0.4700 - dense_1_accuracy: 0.3160 - dense_2_accuracy: 0.2480 - dense_3_accuracy: 0.3080 - dense_4_accuracy: 0.2320 - dense_5_accuracy: 0.3380 - dense_6_accuracy: 0.3240 - dense_7_accuracy: 0.3020 - dense_8_accuracy: 0.3280 - dense_9_accuracy: 0.2960\n",
      "Epoch 6/10\n",
      "8/8 [==============================] - 0s 19ms/step - loss: 13.9020 - dense_loss: 1.1813 - dense_1_loss: 1.3975 - dense_2_loss: 1.4988 - dense_3_loss: 1.3998 - dense_4_loss: 1.4854 - dense_5_loss: 1.3675 - dense_6_loss: 1.4128 - dense_7_loss: 1.3922 - dense_8_loss: 1.3443 - dense_9_loss: 1.4224 - dense_accuracy: 0.4640 - dense_1_accuracy: 0.3260 - dense_2_accuracy: 0.2760 - dense_3_accuracy: 0.3020 - dense_4_accuracy: 0.2800 - dense_5_accuracy: 0.3360 - dense_6_accuracy: 0.3320 - dense_7_accuracy: 0.2720 - dense_8_accuracy: 0.3360 - dense_9_accuracy: 0.3320\n",
      "Epoch 7/10\n",
      "8/8 [==============================] - 0s 17ms/step - loss: 13.8719 - dense_loss: 1.2062 - dense_1_loss: 1.3952 - dense_2_loss: 1.5056 - dense_3_loss: 1.3714 - dense_4_loss: 1.4933 - dense_5_loss: 1.3488 - dense_6_loss: 1.4036 - dense_7_loss: 1.3849 - dense_8_loss: 1.3424 - dense_9_loss: 1.4205 - dense_accuracy: 0.4640 - dense_1_accuracy: 0.3300 - dense_2_accuracy: 0.2740 - dense_3_accuracy: 0.3360 - dense_4_accuracy: 0.3000 - dense_5_accuracy: 0.3720 - dense_6_accuracy: 0.3400 - dense_7_accuracy: 0.3140 - dense_8_accuracy: 0.3360 - dense_9_accuracy: 0.3100\n",
      "Epoch 8/10\n",
      "8/8 [==============================] - 0s 42ms/step - loss: 14.3104 - dense_loss: 1.2598 - dense_1_loss: 1.3969 - dense_2_loss: 1.5326 - dense_3_loss: 1.4319 - dense_4_loss: 1.5512 - dense_5_loss: 1.4104 - dense_6_loss: 1.4518 - dense_7_loss: 1.4093 - dense_8_loss: 1.3874 - dense_9_loss: 1.4791 - dense_accuracy: 0.4660 - dense_1_accuracy: 0.3240 - dense_2_accuracy: 0.2680 - dense_3_accuracy: 0.3100 - dense_4_accuracy: 0.2520 - dense_5_accuracy: 0.3320 - dense_6_accuracy: 0.3420 - dense_7_accuracy: 0.3220 - dense_8_accuracy: 0.3420 - dense_9_accuracy: 0.2820\n",
      "Epoch 9/10\n",
      "8/8 [==============================] - 0s 21ms/step - loss: 13.5524 - dense_loss: 1.1704 - dense_1_loss: 1.3653 - dense_2_loss: 1.4370 - dense_3_loss: 1.3715 - dense_4_loss: 1.4622 - dense_5_loss: 1.3316 - dense_6_loss: 1.3667 - dense_7_loss: 1.3518 - dense_8_loss: 1.3033 - dense_9_loss: 1.3925 - dense_accuracy: 0.4680 - dense_1_accuracy: 0.3460 - dense_2_accuracy: 0.2640 - dense_3_accuracy: 0.3220 - dense_4_accuracy: 0.2600 - dense_5_accuracy: 0.3600 - dense_6_accuracy: 0.3080 - dense_7_accuracy: 0.3180 - dense_8_accuracy: 0.3480 - dense_9_accuracy: 0.3180\n",
      "Epoch 10/10\n",
      "8/8 [==============================] - 0s 18ms/step - loss: 13.3808 - dense_loss: 1.1262 - dense_1_loss: 1.3453 - dense_2_loss: 1.4336 - dense_3_loss: 1.3605 - dense_4_loss: 1.4355 - dense_5_loss: 1.3226 - dense_6_loss: 1.3572 - dense_7_loss: 1.3429 - dense_8_loss: 1.2840 - dense_9_loss: 1.3731 - dense_accuracy: 0.4800 - dense_1_accuracy: 0.3300 - dense_2_accuracy: 0.2700 - dense_3_accuracy: 0.3380 - dense_4_accuracy: 0.2900 - dense_5_accuracy: 0.3600 - dense_6_accuracy: 0.3380 - dense_7_accuracy: 0.3460 - dense_8_accuracy: 0.3360 - dense_9_accuracy: 0.3240\n"
     ]
    }
   ],
   "source": [
    "# init and train LSTM\n",
    "predictor = EmbeddingPredict(event_log)\n",
    "predictor.build_model(embedding_dim=vector_size, gru_dim=vector_size, rnn='LSTM')\n",
    "predictor.fit(epochs=n_epochs, batch_size=n_batch_size, verbose=True)"
   ]
  },
  {
   "cell_type": "code",
   "execution_count": 5,
   "metadata": {},
   "outputs": [],
   "source": [
    "# get feature vector\n",
    "pred_model, feature_vector, embedding_vector = predictor.predict()"
   ]
  },
  {
   "cell_type": "markdown",
   "metadata": {},
   "source": [
    "### Clustering"
   ]
  },
  {
   "cell_type": "code",
   "execution_count": 6,
   "metadata": {},
   "outputs": [],
   "source": [
    "# cluster feature vector\n",
    "cluster_analysis = Clustering(event_log)\n",
    "cluster_analysis.cluster(feature_vector, 'agglomerative', n_clusters, 'cosine')\n",
    "\n",
    "cluster_result = cluster_analysis.evaluate()"
   ]
  },
  {
   "cell_type": "code",
   "execution_count": 7,
   "metadata": {},
   "outputs": [
    {
     "name": "stdout",
     "output_type": "stream",
     "text": [
      "Adjusted Rand Index: 1.0\n",
      "Normalized Mutual Information: 1.0\n",
      "F1-BCubed: 1.0\n"
     ]
    }
   ],
   "source": [
    "print('Adjusted Rand Index: ' + str(cluster_result[0]))\n",
    "print('Normalized Mutual Information: ' + str(cluster_result[1]))\n",
    "print('F1-BCubed: ' + str(cluster_result[2]))"
   ]
  },
  {
   "cell_type": "code",
   "execution_count": null,
   "metadata": {},
   "outputs": [],
   "source": []
  }
 ],
 "metadata": {
  "kernelspec": {
   "display_name": "Python 3",
   "language": "python",
   "name": "python3"
  },
  "language_info": {
   "codemirror_mode": {
    "name": "ipython",
    "version": 3
   },
   "file_extension": ".py",
   "mimetype": "text/x-python",
   "name": "python",
   "nbconvert_exporter": "python",
   "pygments_lexer": "ipython3",
   "version": "3.7.7"
  }
 },
 "nbformat": 4,
 "nbformat_minor": 4
}
